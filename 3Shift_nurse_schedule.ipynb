{
  "nbformat": 4,
  "nbformat_minor": 0,
  "metadata": {
    "colab": {
      "name": "3Shift nurse schedule.ipynb",
      "provenance": [],
      "collapsed_sections": []
    },
    "kernelspec": {
      "name": "python3",
      "display_name": "Python 3"
    },
    "language_info": {
      "name": "python"
    }
  },
  "cells": [
    {
      "cell_type": "markdown",
      "source": [
        "Solving the Nurse Scheduling Problem"
      ],
      "metadata": {
        "id": "EtdypIYm0LnT"
      }
    },
    {
      "cell_type": "code",
      "execution_count": null,
      "metadata": {
        "id": "q08_OzXyzvTG"
      },
      "outputs": [],
      "source": [
        "n=6 #Number of nurses\n",
        "ii=[nurses for nurses in range(n)]\n",
        "jj=[1,2,3] #Index of shifts\n",
        "kk=[1,2,3,4,5,6,7]#Index of days\n",
        "a1=2 #Number of nurses required for morning shift each day\n",
        "a2=3 #Number of nurses required for afternoon shift each day\n",
        "a3=2 #Number of nurses required for evening shift each day\n",
        "f=[1,5,9,9,1,5,9,9,5] #Matrix for nurse i preferences for a shift j on day k"
      ]
    },
    {
      "cell_type": "markdown",
      "source": [
        "Importing the pulp library\n"
      ],
      "metadata": {
        "id": "mwOguuug2YVC"
      }
    },
    {
      "cell_type": "code",
      "source": [
        "!pip install pulp\n",
        "import pulp as p\n",
        "#creating the LP Problem with title; \"Nurse Scheduling Problem\"\n",
        "model = p.LpProblem(\"Nurse_Scheduling_Problem\", p.LpMaximize)"
      ],
      "metadata": {
        "id": "W504-CFt2bCq",
        "colab": {
          "base_uri": "https://localhost:8080/"
        },
        "outputId": "c8bd29d4-a6fc-4e6e-e8aa-d4c77cab4e5a"
      },
      "execution_count": null,
      "outputs": [
        {
          "output_type": "stream",
          "name": "stdout",
          "text": [
            "Looking in indexes: https://pypi.org/simple, https://us-python.pkg.dev/colab-wheels/public/simple/\n",
            "Requirement already satisfied: pulp in /usr/local/lib/python3.7/dist-packages (2.6.0)\n"
          ]
        }
      ]
    },
    {
      "cell_type": "markdown",
      "source": [
        "#### Defining variables"
      ],
      "metadata": {
        "id": "e9Nh-zafCpam"
      }
    },
    {
      "cell_type": "code",
      "source": [
        "# Which is 1 when nurse i is assigned to shift j on day k, 0 otherwise\n",
        "#dicts = Creates a dictionary of LP variables\n",
        "x = p.LpVariable.dicts('x',[(i,j,k) for i in ii\n",
        "                            for j in jj\n",
        "                            for k in kk],0,1,'Binary')\n",
        "# objective function\n",
        "# Our objective is to maximize the nurse’s preferences for a shift j on a day\n",
        "#pulp.lpSum(vector) = Calculate the sum of a list of linear expressions\n",
        "model += p.lpSum(f[k] * x[(i,j,k)]\n",
        "                 for k in kk\n",
        "                 for j in jj\n",
        "                 for i in ii\n",
        "                 )"
      ],
      "metadata": {
        "id": "C87-u9dvCs4X"
      },
      "execution_count": null,
      "outputs": []
    },
    {
      "cell_type": "markdown",
      "source": [
        "#### Constraints"
      ],
      "metadata": {
        "id": "X6g5i3gbF3Xd"
      }
    },
    {
      "cell_type": "code",
      "source": [
        "# Constraint1 #Each nurse must be scheduled for at most one shift each day\n",
        "for i in ii:\n",
        "  for k in kk:\n",
        "    model +=p.lpSum(x[(i,j,k)] for j in jj) <= 1\n",
        "# Constraint2 #No nurse may be scheduled to work a night shift followed immediately by a morning shift\n",
        "for k in range(1, len(kk)):\n",
        "  for i in ii:\n",
        "    model += x[(i,3,k)] + x[(i,1,k+1)] <= 1\n",
        "# Constraint3 # Each nurse must have at least one day-off in the planning horizon\n",
        "for i in ii:\n",
        "  model += p.lpSum(x[(i,j,k)]\n",
        "                   for j in jj\n",
        "                   for k in kk) <= 6\n",
        "# Constraint 4 # Nurses assigned each morning should be equal to the number of nurses\n",
        "# needed for morning # shifts each day which we assume to be constant for all the days\n",
        "for k in kk:\n",
        "  model +=p.lpSum(x[(i,1,k)] for i in ii) == a1\n",
        "\n",
        "# Constraint 5 # Nurses assigned each afternoon should be equal to the number of\n",
        "# nurses needed for a afternoon # shift each day which we assume to be constant for all the days\n",
        "for k in kk:\n",
        "  model += p.lpSum(x[(i,2,k)] for i in ii) == a2\n",
        "\n",
        "# Constraint 6 # Nurses assigned each evening should be equal to the number of nurses\n",
        "# needed for an evening # shift each day which we assume to be constant for all the days\n",
        "for k in kk:\n",
        "  model += p.lpSum(x[(i,3,k)] for i in ii) == a3"
      ],
      "metadata": {
        "id": "HCCmfEPXGDI9"
      },
      "execution_count": null,
      "outputs": []
    },
    {
      "cell_type": "markdown",
      "source": [
        "####More constraints"
      ],
      "metadata": {
        "id": "sjPwhq2KIo5P"
      }
    },
    {
      "cell_type": "code",
      "source": [
        "#Constraint 7 # Each nurse is not assigned more than two consecutive morning shifts\n",
        "for k in range(1, len(kk)-1):\n",
        "  for i in ii:\n",
        "    model += x[(i,1,k)] + x[((i,1,k+1))] + x[(i,1,k+1)] <= 2\n",
        "# Constraint 8 # Each nurse is not assigned more than two consecutive afternoon shifts\n",
        "for k in range(1, len(kk)-1):\n",
        "  for i in ii:\n",
        "    model += x[(i,2,k)] + x[(i,2,k+1)] + x[(i,2,k+1)] <= 2\n",
        "# Constraint 9 # Each nurse is not assigned more than two consecutive evening shifts\n",
        "for k in range(1, len(kk)-1):\n",
        "  for i in ii:\n",
        "    model += x[(i,3,k)] + x[(i,3,k+1)] + x[(i,3,k+1)] <= 2\n",
        "# Constraint 10 # Maximum of three night shifts for a nurse for each planning horizon\n",
        "for i in ii:\n",
        "  model += p.lpSum(x[(i,3,k)]\n",
        "                   for k in kk) <= 3"
      ],
      "metadata": {
        "id": "RNe0ivuHItOI"
      },
      "execution_count": null,
      "outputs": []
    },
    {
      "cell_type": "markdown",
      "source": [
        "#### Solution"
      ],
      "metadata": {
        "id": "aWHc8LKMK0kO"
      }
    },
    {
      "cell_type": "code",
      "source": [
        "soln =  model.solve()\n",
        "\n",
        "# Generating the status of the solution\n",
        "print ('The solution has a status of', soln )\n",
        "print ('This implies that it is', p.LpStatus[model.status])\n",
        "print ('')\n",
        "\n",
        "# Printing the values for each decision variable\n",
        "print (\"The values of the decision variables are : \")\n",
        "for var in x:\n",
        "  var_value = x[var].varValue\n",
        "  print(x[var],\"=\",var_value)\n",
        "  hello=str(x[var]) + \"=\" + str(var_value)\n",
        "\n",
        "# Printing the vaule of the objective\n",
        "obj = model.objective.value()\n",
        "print('')\n",
        "print('The cost of the scheduling is ', obj)"
      ],
      "metadata": {
        "id": "upBsf84HK1jW",
        "colab": {
          "base_uri": "https://localhost:8080/"
        },
        "outputId": "f4769a32-b85f-4822-8189-fabac3d17536"
      },
      "execution_count": null,
      "outputs": [
        {
          "output_type": "stream",
          "name": "stdout",
          "text": [
            "The solution has a status of 1\n",
            "This implies that it is Optimal\n",
            "\n",
            "The values of the decision variables are : \n",
            "x_(0,_1,_1) = 0.0\n",
            "x_(0,_1,_2) = 0.0\n",
            "x_(0,_1,_3) = 0.0\n",
            "x_(0,_1,_4) = 0.0\n",
            "x_(0,_1,_5) = 1.0\n",
            "x_(0,_1,_6) = 0.0\n",
            "x_(0,_1,_7) = 1.0\n",
            "x_(0,_2,_1) = 0.0\n",
            "x_(0,_2,_2) = 0.0\n",
            "x_(0,_2,_3) = 0.0\n",
            "x_(0,_2,_4) = 1.0\n",
            "x_(0,_2,_5) = 0.0\n",
            "x_(0,_2,_6) = 1.0\n",
            "x_(0,_2,_7) = 0.0\n",
            "x_(0,_3,_1) = 1.0\n",
            "x_(0,_3,_2) = 0.0\n",
            "x_(0,_3,_3) = 1.0\n",
            "x_(0,_3,_4) = 0.0\n",
            "x_(0,_3,_5) = 0.0\n",
            "x_(0,_3,_6) = 0.0\n",
            "x_(0,_3,_7) = 0.0\n",
            "x_(1,_1,_1) = 0.0\n",
            "x_(1,_1,_2) = 0.0\n",
            "x_(1,_1,_3) = 0.0\n",
            "x_(1,_1,_4) = 0.0\n",
            "x_(1,_1,_5) = 0.0\n",
            "x_(1,_1,_6) = 0.0\n",
            "x_(1,_1,_7) = 0.0\n",
            "x_(1,_2,_1) = 1.0\n",
            "x_(1,_2,_2) = 0.0\n",
            "x_(1,_2,_3) = 1.0\n",
            "x_(1,_2,_4) = 0.0\n",
            "x_(1,_2,_5) = 0.0\n",
            "x_(1,_2,_6) = 1.0\n",
            "x_(1,_2,_7) = 1.0\n",
            "x_(1,_3,_1) = 0.0\n",
            "x_(1,_3,_2) = 1.0\n",
            "x_(1,_3,_3) = 0.0\n",
            "x_(1,_3,_4) = 1.0\n",
            "x_(1,_3,_5) = 0.0\n",
            "x_(1,_3,_6) = 0.0\n",
            "x_(1,_3,_7) = 0.0\n",
            "x_(2,_1,_1) = 0.0\n",
            "x_(2,_1,_2) = 1.0\n",
            "x_(2,_1,_3) = 0.0\n",
            "x_(2,_1,_4) = 0.0\n",
            "x_(2,_1,_5) = 0.0\n",
            "x_(2,_1,_6) = 0.0\n",
            "x_(2,_1,_7) = 0.0\n",
            "x_(2,_2,_1) = 1.0\n",
            "x_(2,_2,_2) = 0.0\n",
            "x_(2,_2,_3) = 1.0\n",
            "x_(2,_2,_4) = 0.0\n",
            "x_(2,_2,_5) = 1.0\n",
            "x_(2,_2,_6) = 0.0\n",
            "x_(2,_2,_7) = 1.0\n",
            "x_(2,_3,_1) = 0.0\n",
            "x_(2,_3,_2) = 0.0\n",
            "x_(2,_3,_3) = 0.0\n",
            "x_(2,_3,_4) = 0.0\n",
            "x_(2,_3,_5) = 0.0\n",
            "x_(2,_3,_6) = 1.0\n",
            "x_(2,_3,_7) = 0.0\n",
            "x_(3,_1,_1) = 1.0\n",
            "x_(3,_1,_2) = 0.0\n",
            "x_(3,_1,_3) = 1.0\n",
            "x_(3,_1,_4) = 0.0\n",
            "x_(3,_1,_5) = 0.0\n",
            "x_(3,_1,_6) = 0.0\n",
            "x_(3,_1,_7) = 0.0\n",
            "x_(3,_2,_1) = 0.0\n",
            "x_(3,_2,_2) = 1.0\n",
            "x_(3,_2,_3) = 0.0\n",
            "x_(3,_2,_4) = 1.0\n",
            "x_(3,_2,_5) = 0.0\n",
            "x_(3,_2,_6) = 1.0\n",
            "x_(3,_2,_7) = 0.0\n",
            "x_(3,_3,_1) = 0.0\n",
            "x_(3,_3,_2) = 0.0\n",
            "x_(3,_3,_3) = 0.0\n",
            "x_(3,_3,_4) = 0.0\n",
            "x_(3,_3,_5) = 1.0\n",
            "x_(3,_3,_6) = 0.0\n",
            "x_(3,_3,_7) = 0.0\n",
            "x_(4,_1,_1) = 0.0\n",
            "x_(4,_1,_2) = 0.0\n",
            "x_(4,_1,_3) = 0.0\n",
            "x_(4,_1,_4) = 1.0\n",
            "x_(4,_1,_5) = 0.0\n",
            "x_(4,_1,_6) = 0.0\n",
            "x_(4,_1,_7) = 0.0\n",
            "x_(4,_2,_1) = 0.0\n",
            "x_(4,_2,_2) = 1.0\n",
            "x_(4,_2,_3) = 0.0\n",
            "x_(4,_2,_4) = 0.0\n",
            "x_(4,_2,_5) = 0.0\n",
            "x_(4,_2,_6) = 0.0\n",
            "x_(4,_2,_7) = 1.0\n",
            "x_(4,_3,_1) = 0.0\n",
            "x_(4,_3,_2) = 0.0\n",
            "x_(4,_3,_3) = 0.0\n",
            "x_(4,_3,_4) = 0.0\n",
            "x_(4,_3,_5) = 1.0\n",
            "x_(4,_3,_6) = 0.0\n",
            "x_(4,_3,_7) = 0.0\n",
            "x_(5,_1,_1) = 0.0\n",
            "x_(5,_1,_2) = 1.0\n",
            "x_(5,_1,_3) = 0.0\n",
            "x_(5,_1,_4) = 1.0\n",
            "x_(5,_1,_5) = 0.0\n",
            "x_(5,_1,_6) = 1.0\n",
            "x_(5,_1,_7) = 0.0\n",
            "x_(5,_2,_1) = 0.0\n",
            "x_(5,_2,_2) = 0.0\n",
            "x_(5,_2,_3) = 0.0\n",
            "x_(5,_2,_4) = 0.0\n",
            "x_(5,_2,_5) = 1.0\n",
            "x_(5,_2,_6) = 0.0\n",
            "x_(5,_2,_7) = 0.0\n",
            "x_(5,_3,_1) = 0.0\n",
            "x_(5,_3,_2) = 0.0\n",
            "x_(5,_3,_3) = 0.0\n",
            "x_(5,_3,_4) = 0.0\n",
            "x_(5,_3,_5) = 0.0\n",
            "x_(5,_3,_6) = 0.0\n",
            "x_(5,_3,_7) = 1.0\n",
            "x_(6,_1,_1) = 1.0\n",
            "x_(6,_1,_2) = 0.0\n",
            "x_(6,_1,_3) = 1.0\n",
            "x_(6,_1,_4) = 0.0\n",
            "x_(6,_1,_5) = 0.0\n",
            "x_(6,_1,_6) = 0.0\n",
            "x_(6,_1,_7) = 0.0\n",
            "x_(6,_2,_1) = 0.0\n",
            "x_(6,_2,_2) = 0.0\n",
            "x_(6,_2,_3) = 0.0\n",
            "x_(6,_2,_4) = 1.0\n",
            "x_(6,_2,_5) = 0.0\n",
            "x_(6,_2,_6) = 0.0\n",
            "x_(6,_2,_7) = 0.0\n",
            "x_(6,_3,_1) = 0.0\n",
            "x_(6,_3,_2) = 0.0\n",
            "x_(6,_3,_3) = 0.0\n",
            "x_(6,_3,_4) = 0.0\n",
            "x_(6,_3,_5) = 0.0\n",
            "x_(6,_3,_6) = 1.0\n",
            "x_(6,_3,_7) = 1.0\n",
            "x_(7,_1,_1) = 0.0\n",
            "x_(7,_1,_2) = 0.0\n",
            "x_(7,_1,_3) = 0.0\n",
            "x_(7,_1,_4) = 0.0\n",
            "x_(7,_1,_5) = 1.0\n",
            "x_(7,_1,_6) = 0.0\n",
            "x_(7,_1,_7) = 1.0\n",
            "x_(7,_2,_1) = 0.0\n",
            "x_(7,_2,_2) = 1.0\n",
            "x_(7,_2,_3) = 0.0\n",
            "x_(7,_2,_4) = 0.0\n",
            "x_(7,_2,_5) = 0.0\n",
            "x_(7,_2,_6) = 0.0\n",
            "x_(7,_2,_7) = 0.0\n",
            "x_(7,_3,_1) = 1.0\n",
            "x_(7,_3,_2) = 0.0\n",
            "x_(7,_3,_3) = 1.0\n",
            "x_(7,_3,_4) = 0.0\n",
            "x_(7,_3,_5) = 0.0\n",
            "x_(7,_3,_6) = 0.0\n",
            "x_(7,_3,_7) = 0.0\n",
            "x_(8,_1,_1) = 0.0\n",
            "x_(8,_1,_2) = 0.0\n",
            "x_(8,_1,_3) = 0.0\n",
            "x_(8,_1,_4) = 0.0\n",
            "x_(8,_1,_5) = 0.0\n",
            "x_(8,_1,_6) = 1.0\n",
            "x_(8,_1,_7) = 0.0\n",
            "x_(8,_2,_1) = 1.0\n",
            "x_(8,_2,_2) = 0.0\n",
            "x_(8,_2,_3) = 1.0\n",
            "x_(8,_2,_4) = 0.0\n",
            "x_(8,_2,_5) = 1.0\n",
            "x_(8,_2,_6) = 0.0\n",
            "x_(8,_2,_7) = 0.0\n",
            "x_(8,_3,_1) = 0.0\n",
            "x_(8,_3,_2) = 1.0\n",
            "x_(8,_3,_3) = 0.0\n",
            "x_(8,_3,_4) = 1.0\n",
            "x_(8,_3,_5) = 0.0\n",
            "x_(8,_3,_6) = 0.0\n",
            "x_(8,_3,_7) = 0.0\n",
            "\n",
            "The cost of the scheduling is  329.0\n"
          ]
        }
      ]
    }
  ]
}